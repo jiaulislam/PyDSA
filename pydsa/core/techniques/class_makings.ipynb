{
 "cells": [
  {
   "cell_type": "code",
   "execution_count": null,
   "metadata": {},
   "outputs": [],
   "source": [
    "from typing import *"
   ]
  },
  {
   "attachments": {},
   "cell_type": "markdown",
   "metadata": {},
   "source": [
    "### Python Class Can be instantiated many ways (approx. 6 ways). "
   ]
  },
  {
   "cell_type": "code",
   "execution_count": 2,
   "metadata": {},
   "outputs": [
    {
     "name": "stdout",
     "output_type": "stream",
     "text": [
      "<__main__.StyleA object at 0x000002614DA912D0>\n",
      "StyledB Obje:  <__main__.StyleB object at 0x000002614DA91490>\n",
      "Called Call method from StyleB\n",
      "<__main__.StyleB object at 0x000002614DA92410>\n"
     ]
    }
   ],
   "source": [
    "# Type - 1\n",
    "# ==================\n",
    "class StyleA:\n",
    "    \"\"\"\n",
    "    This style is explicit style having explicit __init__(self) method. A python Class will always call __init__ method first.\n",
    "    \n",
    "    \"\"\"\n",
    "    def __init__(self) -> None:\n",
    "        pass\n",
    "\n",
    "\n",
    "stylea_obj = StyleA()\n",
    "print(stylea_obj)\n",
    "\n",
    "# Type - 2\n",
    "# =================\n",
    "class StyleB:\n",
    "    \"\"\"\n",
    "    This is also same nothing \n",
    "    \"\"\"\n",
    "    @classmethod\n",
    "    def __call__(cls, *args, **kwargs):\n",
    "        print(f\"Called Call method from {cls.__name__}\")\n",
    "        return cls(*args, **kwargs)\n",
    "\n",
    "styleb_obj = StyleB()\n",
    "print(\"StyledB Obje: \", styleb_obj)\n",
    "ss = styleb_obj()\n",
    "print(ss)"
   ]
  },
  {
   "cell_type": "code",
   "execution_count": null,
   "metadata": {},
   "outputs": [],
   "source": []
  }
 ],
 "metadata": {
  "kernelspec": {
   "display_name": "dsa-algo-python-z05dy7Ns-py3.11",
   "language": "python",
   "name": "python3"
  },
  "language_info": {
   "codemirror_mode": {
    "name": "ipython",
    "version": 3
   },
   "file_extension": ".py",
   "mimetype": "text/x-python",
   "name": "python",
   "nbconvert_exporter": "python",
   "pygments_lexer": "ipython3",
   "version": "3.11.0"
  },
  "orig_nbformat": 4
 },
 "nbformat": 4,
 "nbformat_minor": 2
}
