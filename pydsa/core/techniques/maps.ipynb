{
 "cells": [
  {
   "attachments": {},
   "cell_type": "markdown",
   "metadata": {},
   "source": [
    "# Maps\n",
    "\n",
    "Functional programming typically uses list, arrays, and other iterables to\n",
    "represent the data with a set of function that operate on that data and\n",
    "transform it. When it comes to processing data with a functional style\n",
    "there are at least three commonly used techniques ( Mapping, Filtering, Reducing )\n",
    "\n",
    "\n",
    "map() loops over the items of an input iterable or iterables and returns an iterator\n",
    "that result from applying a transformation function to every item in the original input iterable.\n",
    "map function signature is defined as : map(function, iterable[iterable1, iterable2, iterable3, ..., iterableN])\n",
    "\n"
   ]
  },
  {
   "attachments": {},
   "cell_type": "markdown",
   "metadata": {},
   "source": [
    "## Basics of Maps"
   ]
  },
  {
   "cell_type": "code",
   "execution_count": 16,
   "metadata": {},
   "outputs": [
    {
     "name": "stdout",
     "output_type": "stream",
     "text": [
      "[1, 4, 9, 16, 25]\n",
      "[0, 1, 2, 3, 4]\n"
     ]
    }
   ],
   "source": [
    "# Convert each items of the numbers array squared value without using foor loop \n",
    "numbers = [1,2,3,4,5]\n",
    "print(list(map(lambda x: x**2, numbers)))\n",
    "\n",
    "\n",
    "# multiple iterables\n",
    "numbers2 = [1,1,1,1,1]\n",
    "print(list(map(lambda x, y: x-y, numbers, numbers2)))"
   ]
  },
  {
   "cell_type": "code",
   "execution_count": null,
   "metadata": {},
   "outputs": [],
   "source": []
  }
 ],
 "metadata": {
  "kernelspec": {
   "display_name": "dsa-algo-python-z05dy7Ns-py3.11",
   "language": "python",
   "name": "python3"
  },
  "language_info": {
   "codemirror_mode": {
    "name": "ipython",
    "version": 3
   },
   "file_extension": ".py",
   "mimetype": "text/x-python",
   "name": "python",
   "nbconvert_exporter": "python",
   "pygments_lexer": "ipython3",
   "version": "3.11.0"
  },
  "orig_nbformat": 4
 },
 "nbformat": 4,
 "nbformat_minor": 2
}
