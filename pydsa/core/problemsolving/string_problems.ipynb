{
 "cells": [
  {
   "attachments": {},
   "cell_type": "markdown",
   "metadata": {},
   "source": [
    "# JavaScript Algorithms and Data Structures [freeCodeCamp]\n",
    "\n",
    "### 1. Palindrome Checker\n",
    "\n",
    "\n",
    "\n",
    "Return true if the given string is a palindrome. Otherwise, return false.\n",
    "\n",
    "A palindrome is a word or sentence that's spelled the same way both forward and backward, ignoring punctuation, case, and spacing.\n",
    "\n",
    "Note: You'll need to remove all non-alphanumeric characters (punctuation, spaces and symbols) and turn everything into the same case (lower or upper case) in order to check for palindromes.\n",
    "\n",
    "We'll pass strings with varying formats, such as racecar, RaceCar, and race CAR among others.\n",
    "\n",
    "We'll also pass strings with special symbols, such as 2A3*3a2, 2A3 3a2, and 2_A3*3#A2.\n",
    "\n",
    "\n",
    "### Thought Process Steps of Mine:\n",
    "    - I would find & replace the non-alphanumerics characters from the string with regex and make lowercase hold it in a variable\n",
    "    - then compare the that string with another reverse string made by Array.from(payloadString).reverse().join(\")\n",
    "    - And that's a wrap up.\n"
   ]
  },
  {
   "cell_type": "code",
   "execution_count": null,
   "metadata": {
    "vscode": {
     "languageId": "javascript"
    }
   },
   "outputs": [],
   "source": [
    "//  my solution\n",
    "\n",
    "function palindrome(str) {\n",
    "  const cleanedStr = str.replace(/[^a-zA-Z0-9]/g, \"\").toLowerCase();\n",
    "  const revstr = Array.from(cleanedStr).reverse().join(\"\")\n",
    "  return cleanedStr === revstr;\n",
    "}\n",
    "\n",
    "``` So far the solution works but It's not very optimized as its doing so much O(n) works like reverse, join & lowercase. Later I learned from chatGPT that the \n",
    "    optimize version would be as below.\n",
    "```"
   ]
  },
  {
   "cell_type": "code",
   "execution_count": null,
   "metadata": {
    "vscode": {
     "languageId": "javascript"
    }
   },
   "outputs": [],
   "source": [
    "// chatGPT Optimized Solution\n",
    "\n",
    "// Key Points to learn here \n",
    "```\n",
    "    - Palindrome problem are better solvable with \"symmetrical\" Loop as below n/2\n",
    "```\n",
    "\n",
    "function palindrome(str) {\n",
    "    const cleanedStr = str.replace(/[^a-zA-Z0-9]/g, \"\").toLowerCase();\n",
    "    const len = cleanedStr.length;\n",
    "    \n",
    "    for (let i = 0; i < len / 2; i++) {\n",
    "      if (cleanedStr[i] !== cleanedStr[len - 1 - i]) {\n",
    "        return false;\n",
    "      }\n",
    "    }\n",
    "    \n",
    "    return true;\n",
    "  }"
   ]
  }
 ],
 "metadata": {
  "language_info": {
   "name": "python"
  },
  "orig_nbformat": 4
 },
 "nbformat": 4,
 "nbformat_minor": 2
}
