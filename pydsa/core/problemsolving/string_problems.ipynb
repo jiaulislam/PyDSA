{
 "cells": [
  {
   "cell_type": "code",
   "execution_count": 8,
   "metadata": {},
   "outputs": [],
   "source": [
    "from typing import *\n",
    "import collections"
   ]
  },
  {
   "attachments": {},
   "cell_type": "markdown",
   "metadata": {},
   "source": [
    "# JavaScript Algorithms and Data Structures [freeCodeCamp]\n",
    "\n",
    "### 1. Palindrome Checker\n",
    "\n",
    "\n",
    "\n",
    "Return true if the given string is a palindrome. Otherwise, return false.\n",
    "\n",
    "A palindrome is a word or sentence that's spelled the same way both forward and backward, ignoring punctuation, case, and spacing.\n",
    "\n",
    "Note: You'll need to remove all non-alphanumeric characters (punctuation, spaces and symbols) and turn everything into the same case (lower or upper case) in order to check for palindromes.\n",
    "\n",
    "We'll pass strings with varying formats, such as racecar, RaceCar, and race CAR among others.\n",
    "\n",
    "We'll also pass strings with special symbols, such as 2A3*3a2, 2A3 3a2, and 2_A3*3#A2.\n",
    "\n",
    "\n",
    "### Thought Process Steps of Mine:\n",
    "    - I would find & replace the non-alphanumerics characters from the string with regex and make lowercase hold it in a variable\n",
    "    - then compare the that string with another reverse string made by Array.from(payloadString).reverse().join(\")\n",
    "    - And that's a wrap up.\n"
   ]
  },
  {
   "cell_type": "code",
   "execution_count": null,
   "metadata": {
    "vscode": {
     "languageId": "javascript"
    }
   },
   "outputs": [],
   "source": [
    "//  my solution\n",
    "\n",
    "function palindrome(str) {\n",
    "  const cleanedStr = str.replace(/[^a-zA-Z0-9]/g, \"\").toLowerCase();\n",
    "  const revstr = Array.from(cleanedStr).reverse().join(\"\")\n",
    "  return cleanedStr === revstr;\n",
    "}\n",
    "\n",
    "``` So far the solution works but It's not very optimized as its doing so much O(n) works like reverse, join & lowercase. Later I learned from chatGPT that the \n",
    "    optimize version would be as below.\n",
    "```"
   ]
  },
  {
   "cell_type": "code",
   "execution_count": null,
   "metadata": {
    "vscode": {
     "languageId": "javascript"
    }
   },
   "outputs": [],
   "source": [
    "// chatGPT Optimized Solution\n",
    "\n",
    "// Key Points to learn here \n",
    "```\n",
    "    - Palindrome problem are better solvable with \"symmetrical\" Loop as below n/2\n",
    "```\n",
    "\n",
    "function palindrome(str) {\n",
    "    const cleanedStr = str.replace(/[^a-zA-Z0-9]/g, \"\").toLowerCase();\n",
    "    const len = cleanedStr.length;\n",
    "    \n",
    "    for (let i = 0; i < len / 2; i++) {\n",
    "      if (cleanedStr[i] !== cleanedStr[len - 1 - i]) {\n",
    "        return false;\n",
    "      }\n",
    "    }\n",
    "    \n",
    "    return true;\n",
    "  }"
   ]
  },
  {
   "cell_type": "markdown",
   "metadata": {},
   "source": [
    "# Leet Code String Problems"
   ]
  },
  {
   "cell_type": "markdown",
   "metadata": {},
   "source": [
    "### 1. 1108. Defanging an IP Address\n",
    "\n",
    "Statement: Given a valid (IPv4) IP address, return a defanged version of that IP address.\n",
    "\n",
    "A defanged IP address replaces every period \".\" with \"[.]\". "
   ]
  },
  {
   "cell_type": "code",
   "execution_count": 2,
   "metadata": {},
   "outputs": [],
   "source": [
    "\"\"\" This was pretty easy challange for me with python. After reading the problem statement I've immedieatly solved the problem as below\"\"\"\n",
    "class Solution:\n",
    "    def defangIPaddr(self, address: str) -> str:\n",
    "        return \"[.]\".join(address.split(\".\"))\n",
    "    \n",
    "\"\"\"But After goind through the Solutions I find most suitable solution would be as below\"\"\"\n",
    "class Solution:\n",
    "    def defangIPaddr(self, address: str) -> str:\n",
    "        return address.replace(\".\",\"[.]\")"
   ]
  },
  {
   "cell_type": "markdown",
   "metadata": {},
   "source": [
    "### 2. 2011. Final Value of Variable After Performing Operations\n",
    "There is a programming language with only four operations and one variable X:\n",
    "\n",
    "    ++X and X++ increments the value of the variable X by 1.\n",
    "    --X and X-- decrements the value of the variable X by 1.\n",
    "\n",
    "Initially, the value of X is 0.\n",
    "\n",
    "Given an array of strings operations containing a list of operations, return the final value of X after performing all the operations."
   ]
  },
  {
   "cell_type": "code",
   "execution_count": 13,
   "metadata": {},
   "outputs": [
    {
     "name": "stdout",
     "output_type": "stream",
     "text": [
      "1\n"
     ]
    },
    {
     "data": {
      "text/plain": [
       "1"
      ]
     },
     "execution_count": 13,
     "metadata": {},
     "output_type": "execute_result"
    }
   ],
   "source": [
    "\"\"\" I was able to solve this problem without much hassle. Initial Solution as below.\"\"\"\n",
    "operations = [\"--X\",\"X++\",\"X++\"]\n",
    "class Solution:\n",
    "    def finalValueAfterOperations(self, operations: List[str]) -> int:\n",
    "        x = 0\n",
    "        for operation  in operations:\n",
    "            if \"+\" in operation:\n",
    "                x += 1\n",
    "            else:\n",
    "                x -= 1\n",
    "        return x\n",
    "    \n",
    "\n",
    "soal = Solution()\n",
    "print(soal.finalValueAfterOperations(operations=operations))\n",
    "\n",
    "\"\"\"Then also thought of the solution using hashing\"\"\"\n",
    "class Solution:\n",
    "    def finalValueAfterOperations(self, operations: List[str]) -> int:\n",
    "        x = 0\n",
    "        for k, v in collections.Counter(operations).items():\n",
    "            if k in ['X++', '++X']:\n",
    "                x += v\n",
    "            else:\n",
    "                x -= v\n",
    "        return x\n",
    "\n",
    "soal = Solution()\n",
    "soal.finalValueAfterOperations(operations)"
   ]
  },
  {
   "cell_type": "code",
   "execution_count": null,
   "metadata": {},
   "outputs": [],
   "source": []
  }
 ],
 "metadata": {
  "kernelspec": {
   "display_name": "dsa-algo-python-z05dy7Ns-py3.11",
   "language": "python",
   "name": "python3"
  },
  "language_info": {
   "codemirror_mode": {
    "name": "ipython",
    "version": 3
   },
   "file_extension": ".py",
   "mimetype": "text/x-python",
   "name": "python",
   "nbconvert_exporter": "python",
   "pygments_lexer": "ipython3",
   "version": "3.11.0"
  },
  "orig_nbformat": 4
 },
 "nbformat": 4,
 "nbformat_minor": 2
}
