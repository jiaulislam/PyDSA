{
 "cells": [
  {
   "cell_type": "markdown",
   "metadata": {},
   "source": [
    "# 🎯 Basic Class Structure"
   ]
  },
  {
   "cell_type": "code",
   "execution_count": 2,
   "metadata": {},
   "outputs": [
    {
     "name": "stdout",
     "output_type": "stream",
     "text": [
      "Vehicle(max_speed=120, mileage=55.3) Vehicle(max_speed=80, mileage=75.8)\n"
     ]
    }
   ],
   "source": [
    "# Basic Class Structure with Python\n",
    "\n",
    "class Vehicle:\n",
    "\n",
    "    def __init__(self, max_speed: int, mileage: float) -> None:\n",
    "        self.max_speed = max_speed\n",
    "        self.mileage = mileage\n",
    "\n",
    "    def __repr__(self) -> str:\n",
    "        return f\"Vehicle(max_speed={self.max_speed}, mileage={self.mileage})\"\n",
    "\n",
    "vehicle1 = Vehicle(max_speed=120, mileage=55.3)\n",
    "vehicle2 = Vehicle(max_speed=80, mileage=75.8)\n",
    "\n",
    "print(vehicle1, vehicle2)"
   ]
  },
  {
   "cell_type": "markdown",
   "metadata": {},
   "source": [
    "## ✏ Basic Inheritance"
   ]
  },
  {
   "cell_type": "code",
   "execution_count": 3,
   "metadata": {
    "editable": true,
    "slideshow": {
     "slide_type": ""
    },
    "tags": []
   },
   "outputs": [
    {
     "name": "stdout",
     "output_type": "stream",
     "text": [
      "Student: Student(name=Zara, gender=Female)\n",
      "Employee: Employee(name=Jibon, gender=Male)\n"
     ]
    }
   ],
   "source": [
    "class Human:\n",
    "    \"\"\" A Class that represents an human blueprint \"\"\"\n",
    "    def __init__(self,* , name: str, age: float, gender: str) -> None:\n",
    "        self.name = name\n",
    "        self.age = age\n",
    "        self.gender = gender\n",
    "\n",
    "    def getName(self) -> str:\n",
    "        return self.name\n",
    "\n",
    "    def getAge(self) -> float:\n",
    "        return self.age\n",
    "\n",
    "    def getGender(self) -> str:\n",
    "        return self.gender\n",
    "\n",
    "    def __repr__(self) -> str:\n",
    "        return f\"{self.__class__.__name__}(name={self.name}, gender={self.gender})\"\n",
    "\n",
    "class Student(Human):\n",
    "    \"\"\" A class representing a student which inherits all the method & attributes from it parent\"\"\"\n",
    "    def __init__(self, roll_no: str, *args, **kwargs) -> None:\n",
    "        super().__init__(*args, **kwargs)\n",
    "        self.roll_no = roll_no\n",
    "\n",
    "class Employee(Human):\n",
    "    \"\"\" A class representing a employee which inherits all the method & attributes from it parent\"\"\"\n",
    "    pass\n",
    "\n",
    "student = Student(name='Zara', age=20, gender='Female', roll_no='21190201123')\n",
    "employee = Employee(name='Jibon', age=30, gender='Male')\n",
    "\n",
    "print(f\"Student: {student}\")\n",
    "print(f\"Employee: {employee}\")\n"
   ]
  },
  {
   "cell_type": "markdown",
   "metadata": {
    "editable": true,
    "slideshow": {
     "slide_type": ""
    },
    "tags": []
   },
   "source": [
    "## ✏ Basic Polymorphism"
   ]
  },
  {
   "cell_type": "markdown",
   "metadata": {},
   "source": [
    "As we already know polymorphism means many forms of a single entity. We can apply some basic polyphormism on above classes (specifically Student, Employee)"
   ]
  },
  {
   "cell_type": "code",
   "execution_count": 4,
   "metadata": {
    "editable": true,
    "slideshow": {
     "slide_type": ""
    },
    "tags": []
   },
   "outputs": [
    {
     "name": "stdout",
     "output_type": "stream",
     "text": [
      "Student: Student-Zara\n",
      "Employee: Employee-Jibon\n"
     ]
    }
   ],
   "source": [
    "class Student(Human):\n",
    "    \"\"\" A class representing a student which inherits all the method & attributes from it parent\"\"\"\n",
    "    def __init__(self, roll_no: str, *args, **kwargs) -> None:\n",
    "        super().__init__(*args, **kwargs)\n",
    "        self.roll_no = roll_no\n",
    "\n",
    "    def getName(self) -> str:\n",
    "        return f\"Student-{self.name}\"\n",
    "\n",
    "class Employee(Human):\n",
    "    \"\"\" A class representing a employee which inherits all the method & attributes from it parent\"\"\"\n",
    "\n",
    "    def getName(self) -> str:\n",
    "        return f\"Employee-{self.name}\"\n",
    "\n",
    "student = Student(name='Zara', age=20, gender='Female', roll_no='21190201123')\n",
    "employee = Employee(name='Jibon', age=30, gender='Male')\n",
    "\n",
    "print(f\"Student: {student.getName()}\")\n",
    "print(f\"Employee: {employee.getName()}\")"
   ]
  },
  {
   "cell_type": "markdown",
   "metadata": {},
   "source": [
    "## ✏ Basic Encapsulation"
   ]
  },
  {
   "cell_type": "markdown",
   "metadata": {
    "editable": true,
    "slideshow": {
     "slide_type": ""
    },
    "tags": []
   },
   "source": [
    "Let's use the Student class to learn about the basics of encapsulation with python. Let us make 2 more class with student category CategorizedStudent, DerivedCategorizedStudent"
   ]
  },
  {
   "cell_type": "code",
   "execution_count": 5,
   "metadata": {
    "editable": true,
    "slideshow": {
     "slide_type": ""
    },
    "tags": []
   },
   "outputs": [
    {
     "name": "stdout",
     "output_type": "stream",
     "text": [
      "True\n",
      "False\n",
      "True\n"
     ]
    }
   ],
   "source": [
    "class CategorizedStudent(Student):\n",
    "    def __init__(self, *args, **kwargs) -> None:\n",
    "        super().__init__(*args, **kwargs)\n",
    "        self._topper = True # setting the private access modifier\n",
    "        self.__itopper = True # also this is a private access modifier not accesble from instance\n",
    "\n",
    "class DerivedCategorizedStudent(CategorizedStudent):\n",
    "    def __init__(self, *args, **kwargs) -> None:\n",
    "        super().__init__(*args, **kwargs)\n",
    "        self._topper = False # trying to modify the protected variable from other class\n",
    "        self.__itopper = False # same as _topper \n",
    "\n",
    "cs = CategorizedStudent(name='Jibon', age=28, gender='male', roll_no=\"21190220123\")\n",
    "dcs = DerivedCategorizedStudent(name='Rima', age=22, gender='female', roll_no=\"211909209290\")\n",
    "\n",
    "print(cs._topper) # True shouldn't get changed from other class\n",
    "print(dcs._topper) # False, here is concept of encapsulation is working data integrity\n",
    "print(cs._topper) # True, As we can see from derived class even we called self._topper it didn't changed the base class self._topper value\n",
    "# print(cs.__topper) # this would raise AttributeError: 'CategorizedStudent' object has no attribute '__topper'\n",
    "\n",
    "# __Note__: there is a concept called `name mangaling` by which we can access & change the \n",
    "# private variable, but this is not recommeded. Google for details about `name managaling`"
   ]
  },
  {
   "cell_type": "markdown",
   "metadata": {
    "editable": true,
    "slideshow": {
     "slide_type": ""
    },
    "tags": []
   },
   "source": [
    "# 💡 Advanced OOP Concepts \n",
    "\n",
    "## Types of Inheritance:\n",
    "\n",
    "If we look carefully on above codes, we created classes for Student as below. A texual representation is given also. There are different types of `Inheritance` available. And for learning purpose we have already learned some other inheritance concepts also.\n",
    "\n",
    "**class Path**\n",
    "\n",
    "`Human -> Student -> CategorizedStudent -> DerivedCategorizedStudent`\n",
    "\n",
    "The inheritance relationship depicted in the UML class diagram is a combination of two types of inheritance:\n",
    "\n",
    "1. Hierarchical Inheritance: Both `CategorizedStudent` and `DerivedCategorizedStudent` are derived from the same base class `Student`, forming a hierarchical inheritance structure.\n",
    "\n",
    "2. Multilevel Inheritance: The `DerivedCategorizedStudent` class is derived from `CategorizedStudent`, which in turn is derived from `Student`, forming a multilevel inheritance structure.\n",
    "\n",
    "Therefore, this inheritance relationship can be classified as both hierarchical and multilevel inheritance.\n",
    "\n",
    "```\n",
    "+-----------------------+\n",
    "|        Human          |\n",
    "+-----------------------+\n",
    "          ^\n",
    "          |\n",
    "       Single Inheritance   \n",
    "          |\n",
    "+-----------------------+\n",
    "|       Student         |\n",
    "+-----------------------+\n",
    "          ^\n",
    "          |\n",
    "       Hierarchical Inheritance\n",
    "          |\n",
    "+-----------------------+\n",
    "|  CategorizedStudent   |\n",
    "+-----------------------+\n",
    "          ^\n",
    "          |\n",
    "       Hierarchical Inheritance\n",
    "          |\n",
    "+--------------------------------+\n",
    "|  DerivedCategorizedStudent     |\n",
    "+--------------------------------+\n",
    "\n",
    "```\n"
   ]
  },
  {
   "cell_type": "markdown",
   "metadata": {},
   "source": [
    "## Whats the difference between class variable and instance variable ? Detailed explanation "
   ]
  },
  {
   "cell_type": "markdown",
   "metadata": {},
   "source": [
    "From the documentation of `python.org` is says: \n",
    ">Generally speaking, instance variables are for data unique to each instance and class variables are for attributes and methods shared by all instances of the class. [Python Doc](https://docs.python.org/3/tutorial/classes.html#class-and-instance-variables)\n",
    "\n",
    "So, in plain words we can say that instance variables are those whoose data are not shared betweeen instances and they are unique for each instance variable. On the other hand Class variables are those type of variables where all the instances of a Class are going to have the same reference of the variable.\n",
    "\n",
    "If not used with caution or the concepts is not understood properly. It can led the developer some confusion. \n",
    "\n",
    "Let's start with a very basic example. Suppose we have below class"
   ]
  },
  {
   "cell_type": "code",
   "execution_count": 6,
   "metadata": {},
   "outputs": [
    {
     "name": "stdout",
     "output_type": "stream",
     "text": [
      "['rollover']\n",
      "['rollover', 'playdead']\n",
      "['rollover', 'playdead']\n",
      "Alpha\n",
      "Beta\n",
      "Alpha\n",
      "changed name\n"
     ]
    }
   ],
   "source": [
    "class Dog:\n",
    "\n",
    "    tricks: list[str] = [] # class variable\n",
    "    \n",
    "    def __init__(self, name) -> None:\n",
    "        self.name = name # instance variable\n",
    "        \n",
    "    def add_trick(self, trick: str) -> None:\n",
    "        self.tricks.append(trick)\n",
    "\n",
    "# initiating the class\n",
    "d1 = Dog('Alpha')\n",
    "d2 = Dog('Beta')\n",
    "\n",
    "# adding tricks\n",
    "d1.add_trick('rollover')\n",
    "print(d1.tricks)\n",
    "d2.add_trick('playdead')\n",
    "\n",
    "print(d2.tricks)\n",
    "print(d1.tricks)\n",
    "\n",
    "print(d1.name)\n",
    "print(d2.name)\n",
    "d2.name = 'changed name'\n",
    "print(d1.name)\n",
    "print(d2.name)\n"
   ]
  },
  {
   "cell_type": "markdown",
   "metadata": {},
   "source": [
    "As we can observe from above code, class variables are getting shared on memory by reference. All instances share the same class variable `tricks` state. On the other hand instance variable is getting changed for only the instance it is refering to.\n",
    "\n",
    "Now one important question to ask would be, When should I use the class variable. Well, that's basically depends of the project requirements. But one simple idea would be let's say we need to keep track of the how many Dog object get instantiated throughtout the lifetime of the program lifecycle. How would we do that ? So, we can implement something like below."
   ]
  },
  {
   "cell_type": "code",
   "execution_count": 20,
   "metadata": {},
   "outputs": [
    {
     "name": "stdout",
     "output_type": "stream",
     "text": [
      "2\n",
      "2\n",
      "3\n"
     ]
    },
    {
     "data": {
      "text/plain": [
       "3"
      ]
     },
     "execution_count": 20,
     "metadata": {},
     "output_type": "execute_result"
    }
   ],
   "source": [
    "class Dog:\n",
    "    _dogs_count: int = 0\n",
    "\n",
    "    def __init__(self, name) -> None:\n",
    "        self.name = name\n",
    "        # We're self referrencing the Dog class as we're using a int not iterables [as they work on object reference]\n",
    "        Dog._dogs_count += 1 \n",
    "\n",
    "    @classmethod\n",
    "    def dog_counts(cls) -> int:\n",
    "        return cls._dogs_count\n",
    "\n",
    "d1 = Dog('Amiral')\n",
    "d2 = Dog('Aziral')\n",
    "print(d2.dog_counts())\n",
    "print(d1.dog_counts())\n",
    "d3 = Dog('BadDog')\n",
    "print(d1.dog_counts())\n",
    "\n",
    "d3._dogs_count = 0\n",
    "d3.dog_counts()"
   ]
  },
  {
   "cell_type": "markdown",
   "metadata": {},
   "source": [
    "## Python Magic or Dunder methods in details"
   ]
  },
  {
   "cell_type": "markdown",
   "metadata": {},
   "source": [
    "In Python 3, there are several magic or dunder methods (double underscores before and after the method name) that allow classes to define their behavior in various situations. Here's a list of some commonly used magic methods along with their corresponding cycles and tasks:\n",
    "\n",
    "1. Object Initialization:\n",
    "   - `__init__(self, ...)`: Called when a new instance of the class is created. Used for initializing object attributes.\n",
    "\n",
    "2. Object Representation:\n",
    "   - `__str__(self)`: Called by `str()` function. Used to get a user-friendly string representation of the object.\n",
    "   - `__repr__(self)`: Called by `repr()` function. Used to get the official string representation of the object.\n",
    "\n",
    "3. Numeric Operations:\n",
    "   - `__add__(self, other)`: Called for the `+` operator.\n",
    "   - `__sub__(self, other)`: Called for the `-` operator.\n",
    "   - `__mul__(self, other)`: Called for the `*` operator.\n",
    "   - `__truediv__(self, other)`: Called for the `/` operator.\n",
    "   - `__floordiv__(self, other)`: Called for the `//` operator.\n",
    "   - `__mod__(self, other)`: Called for the `%` operator.\n",
    "   - `__pow__(self, other[, modulo])`: Called for the `**` operator.\n",
    "   - `__eq__(self, other)`: Called for the `==` operator.\n",
    "   - `__ne__(self, other)`: Called for the `!=` operator.\n",
    "   - `__lt__(self, other)`: Called for the `<` operator.\n",
    "   - `__le__(self, other)`: Called for the `<=` operator.\n",
    "   - `__gt__(self, other)`: Called for the `>` operator.\n",
    "   - `__ge__(self, other)`: Called for the `>=` operator.\n",
    "\n",
    "4. Object Comparison:\n",
    "   - `__eq__(self, other)`: Called for `==` comparison.\n",
    "   - `__ne__(self, other)`: Called for `!=` comparison.\n",
    "\n",
    "5. Object Lifecycle:\n",
    "   - `__del__(self)`: Called when the object is about to be destroyed. Used for cleanup tasks.\n",
    "\n",
    "6. Container Types:\n",
    "   - `__len__(self)`: Called for `len()` function. Used to get the length of the object.\n",
    "   - `__getitem__(self, key)`: Called for indexing and slicing operations.\n",
    "   - `__setitem__(self, key, value)`: Called for assignment to an index or slice.\n",
    "   - `__delitem__(self, key)`: Called for deleting an item by index or slice.\n",
    "   - `__contains__(self, item)`: Called for the `in` and `not in` operations.\n",
    "\n",
    "7. Iterators:\n",
    "   - `__iter__(self)`: Called when an iterator object is requested.\n",
    "   - `__next__(self)`: Called to get the next value from the iterator.\n",
    "\n",
    "8. Context Management:\n",
    "   - `__enter__(self)`: Called when entering a `with` block.\n",
    "   - `__exit__(self, exc_type, exc_value, traceback)`: Called when exiting a `with` block.\n",
    "\n",
    "9. Attribute Access:\n",
    "   - `__getattr__(self, name)`: Called when an attribute is accessed that doesn't exist.\n",
    "   - `__setattr__(self, name, value)`: Called when an attribute is set.\n",
    "   - `__delattr__(self, name)`: Called when an attribute is deleted.\n",
    "\n",
    "10. Callable Objects:\n",
    "    - `__call__(self, *args, **kwargs)`: Called when an instance of the class is called as a function.\n",
    "\n",
    "These are some of the commonly used magic methods in Python. Each method is used in specific contexts to customize the behavior of classes and objects. By implementing these methods, we can make our classes more powerful and flexible, enabling them to behave like built-in Python objects and interact seamlessly with the language features."
   ]
  },
  {
   "cell_type": "markdown",
   "metadata": {
    "editable": true,
    "slideshow": {
     "slide_type": ""
    },
    "tags": []
   },
   "source": [
    "# 💻 Practice Problems of OOP"
   ]
  },
  {
   "cell_type": "markdown",
   "metadata": {},
   "source": [
    "## Write a program to print the area and perimeter of a triangle having sides of 3, 4 and 5 units by creating a class named 'Triangle' without any parameter in its constructor"
   ]
  },
  {
   "cell_type": "code",
   "execution_count": 11,
   "metadata": {},
   "outputs": [
    {
     "name": "stdout",
     "output_type": "stream",
     "text": [
      "60\n",
      "12\n"
     ]
    }
   ],
   "source": [
    "class Triangle:\n",
    "\n",
    "    def __init__(self):\n",
    "        self._length = 3\n",
    "        self._width = 4\n",
    "        self._height = 5\n",
    "\n",
    "    @property\n",
    "    def width(self) -> int:\n",
    "        return self._width\n",
    "\n",
    "    def area(self) -> float:\n",
    "        return self._length * self._width * self._height\n",
    "\n",
    "    def perimeter(self) -> float:\n",
    "        return self._length + self._width + self._height\n",
    "\n",
    "\n",
    "    def __repr__(self) -> str:\n",
    "        return f\"Trangle(length={self._length}, height={self._height}, width={self._width})\"\n",
    "\n",
    "t1 = Triangle()\n",
    "print(t1.area())\n",
    "print(t1.perimeter())"
   ]
  },
  {
   "cell_type": "markdown",
   "metadata": {},
   "source": [
    "## Print the average of three numbers entered by user by creating a class named 'Average' having a method to calculate and print the average."
   ]
  },
  {
   "cell_type": "code",
   "execution_count": 16,
   "metadata": {},
   "outputs": [
    {
     "data": {
      "text/plain": [
       "2.3333333333333335"
      ]
     },
     "execution_count": 16,
     "metadata": {},
     "output_type": "execute_result"
    }
   ],
   "source": [
    "class Average:\n",
    "    def __init__(self, x: float, y: float, z: float) -> None:\n",
    "        self._x = x\n",
    "        self._y = y\n",
    "        self._z = z\n",
    "\n",
    "    def average(self) -> float:\n",
    "        return (self._x + self._y + self._z) / 3\n",
    "\n",
    "a = Average(2, 2, 3)\n",
    "a.average()"
   ]
  },
  {
   "cell_type": "markdown",
   "metadata": {},
   "source": [
    "## Create a class called Shape with a method called getArea(). Create a subclass called Rectangle that overrides the getArea() method to calculate the area of a rectangle"
   ]
  },
  {
   "cell_type": "code",
   "execution_count": 22,
   "metadata": {},
   "outputs": [
    {
     "name": "stdout",
     "output_type": "stream",
     "text": [
      "Rectangle(length=10, height=10, width=10)\n"
     ]
    },
    {
     "data": {
      "text/plain": [
       "100"
      ]
     },
     "execution_count": 22,
     "metadata": {},
     "output_type": "execute_result"
    }
   ],
   "source": [
    "# To solve the problem here the solution is to use the inheritance + polymorphism concept of the class.\n",
    "\n",
    "class Shape:\n",
    "\n",
    "    def __init__(self, length: float, height: float, width: float) -> None:\n",
    "        self._length = length\n",
    "        self._height = height\n",
    "        self._width = width\n",
    "\n",
    "    def get_area(self) -> float:\n",
    "        return self._length * self._height * self._width\n",
    "\n",
    "    def __repr__(self) -> str:\n",
    "        return f\"{self.__class__.__name__}(length={self._length}, height={self._height}, width={self._width})\"\n",
    "\n",
    "class Rectangle(Shape):\n",
    "\n",
    "    def get_area(self) -> float:\n",
    "        return self._height * self._width\n",
    "\n",
    "r = Rectangle(10, 10, 10)\n",
    "print(r)\n",
    "r.get_area()"
   ]
  },
  {
   "cell_type": "markdown",
   "metadata": {},
   "source": [
    "## Create a class called Employee with methods called work() and getSalary(). Create a subclass called HRManager that overrides the work() method and adds a new method called addEmployee(). "
   ]
  },
  {
   "cell_type": "code",
   "execution_count": 46,
   "metadata": {},
   "outputs": [
    {
     "name": "stdout",
     "output_type": "stream",
     "text": [
      "HRManager(name=Sahadat, salary=34000)\n",
      "[]\n",
      "True\n",
      "True\n",
      "Employee Working 🎃\n",
      "HR Manager Working 🎈\n",
      "[Employee(name=Jibon, salary=36000), Employee(name=Masud, salary=45000)]\n"
     ]
    }
   ],
   "source": [
    "class Employee:\n",
    "    def __init__(self, name: str, salary: float) -> None:\n",
    "        self._name = name\n",
    "        self._salary = salary\n",
    "\n",
    "    def work(self) -> str:\n",
    "        return f\"{self.__class__.__name__} Working 🎃\"\n",
    "\n",
    "    def get_salary(self) -> float:\n",
    "        return self._salary\n",
    "\n",
    "    def __repr__(self) -> str:\n",
    "        return f\"{self.__class__.__name__}(name={self._name}, salary={self._salary})\"\n",
    "\n",
    "class HRManager(Employee):\n",
    "    employees : list[Employee] = [] \n",
    "    \n",
    "    def work(self) -> str:\n",
    "        return \"HR Manager Working 🎈\"\n",
    "\n",
    "    def add_employee(self, employee: Employee) -> None:\n",
    "        self.employees.append(employee)\n",
    "\n",
    "    def __repr__(self) -> str:\n",
    "        return f\"{self.__class__.__name__}(name={self._name}, salary={self._salary})\"\n",
    "\n",
    "hr = HRManager('Sahadat', 34000)\n",
    "emp = Employee('Jibon', 36000)\n",
    "emp2 = Employee('Masud', 45000)\n",
    "\n",
    "print(hr)\n",
    "print(HRManager.employees)\n",
    "print(issubclass(HRManager, Employee))\n",
    "print(isinstance(emp2, Employee))\n",
    "hr.add_employee(emp)\n",
    "hr.add_employee(emp2)\n",
    "print(emp.work())\n",
    "print(hr.work())\n",
    "print(HRManager.employees)\n",
    "        "
   ]
  },
  {
   "cell_type": "code",
   "execution_count": null,
   "metadata": {},
   "outputs": [],
   "source": []
  }
 ],
 "metadata": {
  "kernelspec": {
   "display_name": "Python 3 (ipykernel)",
   "language": "python",
   "name": "python3"
  },
  "language_info": {
   "codemirror_mode": {
    "name": "ipython",
    "version": 3
   },
   "file_extension": ".py",
   "mimetype": "text/x-python",
   "name": "python",
   "nbconvert_exporter": "python",
   "pygments_lexer": "ipython3",
   "version": "3.11.0"
  }
 },
 "nbformat": 4,
 "nbformat_minor": 4
}
