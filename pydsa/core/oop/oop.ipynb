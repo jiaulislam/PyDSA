{
 "cells": [
  {
   "cell_type": "markdown",
   "metadata": {},
   "source": [
    "# 🎯 Basic Class Structure"
   ]
  },
  {
   "cell_type": "code",
   "execution_count": 2,
   "metadata": {},
   "outputs": [
    {
     "name": "stdout",
     "output_type": "stream",
     "text": [
      "Vehicle(max_speed=120, mileage=55.3) Vehicle(max_speed=80, mileage=75.8)\n"
     ]
    }
   ],
   "source": [
    "# Basic Class Structure with Python\n",
    "\n",
    "class Vehicle:\n",
    "\n",
    "    def __init__(self, max_speed: int, mileage: float) -> None:\n",
    "        self.max_speed = max_speed\n",
    "        self.mileage = mileage\n",
    "\n",
    "    def __repr__(self) -> str:\n",
    "        return f\"Vehicle(max_speed={self.max_speed}, mileage={self.mileage})\"\n",
    "\n",
    "vehicle1 = Vehicle(max_speed=120, mileage=55.3)\n",
    "vehicle2 = Vehicle(max_speed=80, mileage=75.8)\n",
    "\n",
    "print(vehicle1, vehicle2)"
   ]
  },
  {
   "cell_type": "markdown",
   "metadata": {},
   "source": [
    "## ✏ Basic Inheritance"
   ]
  },
  {
   "cell_type": "code",
   "execution_count": 3,
   "metadata": {
    "editable": true,
    "slideshow": {
     "slide_type": ""
    },
    "tags": []
   },
   "outputs": [
    {
     "name": "stdout",
     "output_type": "stream",
     "text": [
      "Student: Student(name=Zara, gender=Female)\n",
      "Employee: Employee(name=Jibon, gender=Male)\n"
     ]
    }
   ],
   "source": [
    "class Human:\n",
    "    \"\"\" A Class that represents an human blueprint \"\"\"\n",
    "    def __init__(self,* , name: str, age: float, gender: str) -> None:\n",
    "        self.name = name\n",
    "        self.age = age\n",
    "        self.gender = gender\n",
    "\n",
    "    def getName(self) -> str:\n",
    "        return self.name\n",
    "\n",
    "    def getAge(self) -> float:\n",
    "        return self.age\n",
    "\n",
    "    def getGender(self) -> str:\n",
    "        return self.gender\n",
    "\n",
    "    def __repr__(self) -> str:\n",
    "        return f\"{self.__class__.__name__}(name={self.name}, gender={self.gender})\"\n",
    "\n",
    "class Student(Human):\n",
    "    \"\"\" A class representing a student which inherits all the method & attributes from it parent\"\"\"\n",
    "    def __init__(self, roll_no: str, *args, **kwargs) -> None:\n",
    "        super().__init__(*args, **kwargs)\n",
    "        self.roll_no = roll_no\n",
    "\n",
    "class Employee(Human):\n",
    "    \"\"\" A class representing a employee which inherits all the method & attributes from it parent\"\"\"\n",
    "    pass\n",
    "\n",
    "student = Student(name='Zara', age=20, gender='Female', roll_no='21190201123')\n",
    "employee = Employee(name='Jibon', age=30, gender='Male')\n",
    "\n",
    "print(f\"Student: {student}\")\n",
    "print(f\"Employee: {employee}\")\n"
   ]
  },
  {
   "cell_type": "markdown",
   "metadata": {
    "editable": true,
    "slideshow": {
     "slide_type": ""
    },
    "tags": []
   },
   "source": [
    "## ✏ Basic Polymorphism"
   ]
  },
  {
   "cell_type": "markdown",
   "metadata": {},
   "source": [
    "As we already know polymorphism means many forms of a single entity. We can apply some basic polyphormism on above classes (specifically Student, Employee)"
   ]
  },
  {
   "cell_type": "code",
   "execution_count": 4,
   "metadata": {
    "editable": true,
    "slideshow": {
     "slide_type": ""
    },
    "tags": []
   },
   "outputs": [
    {
     "name": "stdout",
     "output_type": "stream",
     "text": [
      "Student: Student-Zara\n",
      "Employee: Employee-Jibon\n"
     ]
    }
   ],
   "source": [
    "class Student(Human):\n",
    "    \"\"\" A class representing a student which inherits all the method & attributes from it parent\"\"\"\n",
    "    def __init__(self, roll_no: str, *args, **kwargs) -> None:\n",
    "        super().__init__(*args, **kwargs)\n",
    "        self.roll_no = roll_no\n",
    "\n",
    "    def getName(self) -> str:\n",
    "        return f\"Student-{self.name}\"\n",
    "\n",
    "class Employee(Human):\n",
    "    \"\"\" A class representing a employee which inherits all the method & attributes from it parent\"\"\"\n",
    "\n",
    "    def getName(self) -> str:\n",
    "        return f\"Employee-{self.name}\"\n",
    "\n",
    "student = Student(name='Zara', age=20, gender='Female', roll_no='21190201123')\n",
    "employee = Employee(name='Jibon', age=30, gender='Male')\n",
    "\n",
    "print(f\"Student: {student.getName()}\")\n",
    "print(f\"Employee: {employee.getName()}\")"
   ]
  },
  {
   "cell_type": "markdown",
   "metadata": {},
   "source": [
    "## ✏ Basic Encapsulation"
   ]
  },
  {
   "cell_type": "markdown",
   "metadata": {
    "editable": true,
    "slideshow": {
     "slide_type": ""
    },
    "tags": []
   },
   "source": [
    "Let's use the Student class to learn about the basics of encapsulation with python. Let us make 2 more class with student category CategorizedStudent, DerivedCategorizedStudent"
   ]
  },
  {
   "cell_type": "code",
   "execution_count": 5,
   "metadata": {
    "editable": true,
    "slideshow": {
     "slide_type": ""
    },
    "tags": []
   },
   "outputs": [
    {
     "name": "stdout",
     "output_type": "stream",
     "text": [
      "True\n",
      "False\n",
      "True\n"
     ]
    }
   ],
   "source": [
    "class CategorizedStudent(Student):\n",
    "    def __init__(self, *args, **kwargs) -> None:\n",
    "        super().__init__(*args, **kwargs)\n",
    "        self._topper = True # setting the private access modifier\n",
    "        self.__itopper = True # also this is a private access modifier not accesble from instance\n",
    "\n",
    "class DerivedCategorizedStudent(CategorizedStudent):\n",
    "    def __init__(self, *args, **kwargs) -> None:\n",
    "        super().__init__(*args, **kwargs)\n",
    "        self._topper = False # trying to modify the protected variable from other class\n",
    "        self.__itopper = False # same as _topper \n",
    "\n",
    "cs = CategorizedStudent(name='Jibon', age=28, gender='male', roll_no=\"21190220123\")\n",
    "dcs = DerivedCategorizedStudent(name='Rima', age=22, gender='female', roll_no=\"211909209290\")\n",
    "\n",
    "print(cs._topper) # True shouldn't get changed from other class\n",
    "print(dcs._topper) # False, here is concept of encapsulation is working data integrity\n",
    "print(cs._topper) # True, As we can see from derived class even we called self._topper it didn't changed the base class self._topper value\n",
    "# print(cs.__topper) # this would raise AttributeError: 'CategorizedStudent' object has no attribute '__topper'\n",
    "\n",
    "# __Note__: there is a concept called `name mangaling` by which we can access & change the \n",
    "# private variable, but this is not recommeded. Google for details about `name managaling`"
   ]
  },
  {
   "cell_type": "markdown",
   "metadata": {
    "editable": true,
    "slideshow": {
     "slide_type": ""
    },
    "tags": []
   },
   "source": [
    "# 💡 Advanced OOP Concepts \n",
    "\n",
    "## Types of Inheritance:\n",
    "\n",
    "If we look carefully on above codes, we created classes for Student as below. A texual representation is given also. There are different types of `Inheritance` available. And for learning purpose we have already learned some other inheritance concepts also.\n",
    "\n",
    "**class Path**\n",
    "\n",
    "`Human -> Student -> CategorizedStudent -> DerivedCategorizedStudent`\n",
    "\n",
    "The inheritance relationship depicted in the UML class diagram is a combination of two types of inheritance:\n",
    "\n",
    "1. Hierarchical Inheritance: Both `CategorizedStudent` and `DerivedCategorizedStudent` are derived from the same base class `Student`, forming a hierarchical inheritance structure.\n",
    "\n",
    "2. Multilevel Inheritance: The `DerivedCategorizedStudent` class is derived from `CategorizedStudent`, which in turn is derived from `Student`, forming a multilevel inheritance structure.\n",
    "\n",
    "Therefore, this inheritance relationship can be classified as both hierarchical and multilevel inheritance.\n",
    "\n",
    "```\n",
    "+-----------------------+\n",
    "|        Human          |\n",
    "+-----------------------+\n",
    "          ^\n",
    "          |\n",
    "       Single Inheritance   \n",
    "          |\n",
    "+-----------------------+\n",
    "|       Student         |\n",
    "+-----------------------+\n",
    "          ^\n",
    "          |\n",
    "       Hierarchical Inheritance\n",
    "          |\n",
    "+-----------------------+\n",
    "|  CategorizedStudent   |\n",
    "+-----------------------+\n",
    "          ^\n",
    "          |\n",
    "       Hierarchical Inheritance\n",
    "          |\n",
    "+--------------------------------+\n",
    "|  DerivedCategorizedStudent     |\n",
    "+--------------------------------+\n",
    "\n",
    "```\n"
   ]
  },
  {
   "cell_type": "code",
   "execution_count": null,
   "metadata": {},
   "outputs": [],
   "source": []
  }
 ],
 "metadata": {
  "kernelspec": {
   "display_name": "Python 3 (ipykernel)",
   "language": "python",
   "name": "python3"
  },
  "language_info": {
   "codemirror_mode": {
    "name": "ipython",
    "version": 3
   },
   "file_extension": ".py",
   "mimetype": "text/x-python",
   "name": "python",
   "nbconvert_exporter": "python",
   "pygments_lexer": "ipython3",
   "version": "3.11.0"
  }
 },
 "nbformat": 4,
 "nbformat_minor": 4
}
