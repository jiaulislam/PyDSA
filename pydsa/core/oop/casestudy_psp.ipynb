{
 "cells": [
  {
   "cell_type": "code",
   "execution_count": 1,
   "id": "bf43052c-1684-4463-8379-b951139be2f4",
   "metadata": {},
   "outputs": [
    {
     "data": {
      "text/html": [
       "\n",
       "                <script type=\"application/javascript\" id=\"jupyter_black\">\n",
       "                (function() {\n",
       "                    if (window.IPython === undefined) {\n",
       "                        return\n",
       "                    }\n",
       "                    var msg = \"WARNING: it looks like you might have loaded \" +\n",
       "                        \"jupyter_black in a non-lab notebook with \" +\n",
       "                        \"`is_lab=True`. Please double check, and if \" +\n",
       "                        \"loading with `%load_ext` please review the README!\"\n",
       "                    console.log(msg)\n",
       "                    alert(msg)\n",
       "                })()\n",
       "                </script>\n",
       "                "
      ],
      "text/plain": [
       "<IPython.core.display.HTML object>"
      ]
     },
     "metadata": {},
     "output_type": "display_data"
    }
   ],
   "source": [
    "%load_ext jupyter_black"
   ]
  },
  {
   "cell_type": "markdown",
   "id": "36a67609-a33e-4c89-9e2e-802295d16012",
   "metadata": {},
   "source": [
    "# Case Study of OOP (Payment Service Integration with Payment Service Provider)"
   ]
  },
  {
   "cell_type": "markdown",
   "id": "c6e7e3f6-7ea9-40a2-89d6-a2785c1c7bb4",
   "metadata": {},
   "source": [
    "**Problem Description:** \n",
    "\n",
    "Design a high level OOP design of a system that handles payments from such as bKash, nagad & also payment service provider like Easten Bank Ltd. Payment gateway and CityBank."
   ]
  },
  {
   "cell_type": "markdown",
   "id": "4a4f88ed-9549-423f-b41c-b3ae3d678aac",
   "metadata": {},
   "source": [
    "**Functional Requirements:**\n",
    "\n",
    "- Pay-in-flow: Payment system receives money from customer and make the premium sattelement.\n",
    "\n",
    "**Non Functional Requirements:**\n",
    "\n",
    "- Reliability: handle failed payments\n",
    "- proper logging at each steps\n",
    "- Follow Clean Architechture\n",
    "- Modular design"
   ]
  },
  {
   "cell_type": "markdown",
   "id": "b6a6cec3-28cb-4039-be31-d5e56f923371",
   "metadata": {},
   "source": [
    "**High-Level Premium Pay Flow**\n",
    "\n",
    "![psp_diagram](assets/use_case_diagram_psp.png \"High-Level Premium Pay Flow\")"
   ]
  },
  {
   "cell_type": "markdown",
   "id": "761feb2f-8b66-4fa6-8eaa-271111bc0199",
   "metadata": {},
   "source": [
    "**Class Entities**\n",
    "\n",
    "- Payment Service\n",
    "    - The payment service accepts payment events from users and coordinates the payment process. The first thing is usually does is check of business rules for a single policy object payments.Also it should have a functionlity for generate a unique order id for each payment execution \n",
    "- Payment Executor\n",
    "    - The payment executor executes a single payment order via a payment service provider(PSP).\n",
    "- Ledger\n",
    "    - The ledger keeps a financial record of the payment transaction. \n",
    "- Insurer\n",
    "    - The Insurer is the policy object information from the system, where a details of the policy is found."
   ]
  },
  {
   "cell_type": "code",
   "execution_count": 10,
   "id": "3acb8630-0e51-4eed-a1c9-423d0fe1d4cf",
   "metadata": {},
   "outputs": [],
   "source": [
    "import math\n",
    "import random\n",
    "from typing import Any\n",
    "from abc import ABC, abstractmethod\n",
    "from datetime import datetime, date\n",
    "from enum import Enum\n",
    "\n",
    "\n",
    "class ServiceProvider(str, Enum):\n",
    "    MFS = \"MFS\"\n",
    "    PG = \"PAYMENT_GATEWAY\"\n",
    "    AB = \"AGENT_BANKING\"\n",
    "\n",
    "\n",
    "class Insurer:\n",
    "    \"\"\"The class for Insurer Policy Handler. It is responsible for the all the busiess logic sanity check\"\"\"\n",
    "\n",
    "    MINIMUM_DUE_DAYS = -90\n",
    "    MAXIMUM_ADV_PAYDAYS = 20\n",
    "    MINIMUM_PREMIUM_COUNT = 1\n",
    "    ALLOWED_LAPSE_MONTH = 3.2\n",
    "\n",
    "    def __init__(self, lapse_month: float, paymode: str):\n",
    "        self.lapse_month = lapse_month\n",
    "        self.paymode = paymode\n",
    "\n",
    "    @property\n",
    "    def lapsed(self) -> bool:\n",
    "        return self.lapse_month > self.ALLOWED_LAPSE_MONTH\n",
    "\n",
    "    @property\n",
    "    def term_in_month(self) -> int:\n",
    "        match self.paymode:\n",
    "            case \"1\":\n",
    "                return 12\n",
    "            case \"2\":\n",
    "                return 6\n",
    "            case \"4\":\n",
    "                return 3\n",
    "            case _:\n",
    "                return 1\n",
    "\n",
    "    def due_count(self) -> int:\n",
    "        return math.ceil(self.lapse_month / self.term_in_month)\n",
    "\n",
    "    def due_amount(self) -> float:\n",
    "        current_date = datetime.today()\n",
    "        next_premium_date = self.current_next_paydate\n",
    "\n",
    "        diff_in_days = (next_premium_date - current_date).days\n",
    "        premium_amount = 0\n",
    "        if (self.MINIMUM_DUE_DAYS <= diff_in_days <= self.MAXIMUM_ADV_PAYDAYS) or (\n",
    "            self.MINIMUM_DUE_DAYS > diff_in_days and self.due_count() > 0\n",
    "        ):\n",
    "            premium_amount = self.total_premium * max(\n",
    "                self.due_count(), self.MINIMUM_PREMIUM_COUNT\n",
    "            )\n",
    "            suspanse_amount = self.suspanse_amount or 0\n",
    "        return (premium_amount + self.late_fees) - suspanse_amount\n",
    "\n",
    "    def get_ledger_info(self) -> dict[str, Any]:\n",
    "        return {\n",
    "            \"policy_number\": \"0134050541\",\n",
    "            \"lapsed\": True,\n",
    "        }\n",
    "\n",
    "\n",
    "class AbstractPaymentService(ABC):\n",
    "    \"\"\"Abstract class to blueprint the inherited classes should have\"\"\"\n",
    "\n",
    "    @abstractmethod\n",
    "    def add_ledger_entry(self) -> None:\n",
    "        raise NotImplementedError\n",
    "\n",
    "\n",
    "class Order:\n",
    "    def __init__(self) -> None:\n",
    "        pass\n",
    "\n",
    "    def create_orderid(self) -> str:\n",
    "        return \"ORDERID CREATED\"\n",
    "\n",
    "\n",
    "class PaymentService(AbstractPaymentService):\n",
    "    def __init__(self, db) -> None:\n",
    "        self.__is_payable = False\n",
    "        self._orderid = None\n",
    "        self.db = db\n",
    "\n",
    "    def create_orderid(self, office_code: str) -> None:\n",
    "        current_date = date.today().strftime(\"%y%m%d\")\n",
    "\n",
    "        # Generate random letters without digits\n",
    "        random_letters = \"\".join(\n",
    "            random.choices(string.ascii_uppercase, k=orderid_length - 2)\n",
    "        )\n",
    "\n",
    "        # Generate two random digits\n",
    "        random_digits = \"\".join(random.choices(string.digits, k=2))\n",
    "\n",
    "        # Insert the two random digits at random positions within the random_letters\n",
    "        random_position = random.randint(0, len(random_letters))\n",
    "        random_letters = (\n",
    "            random_letters[:random_position]\n",
    "            + random_digits\n",
    "            + random_letters[random_position:]\n",
    "        )\n",
    "\n",
    "        self._orderid = f\"{office_code}{current_date}{random_letters}\"\n",
    "\n",
    "    @property\n",
    "    def order_id(self) -> str | None:\n",
    "        return self._orderid\n",
    "\n",
    "    def add_ledger_entry(self, payload: dict[str, Any]) -> None:\n",
    "        self.db.add(payload)\n",
    "\n",
    "\n",
    "class MFSPaymentService(PaymentService):\n",
    "    def __init__(self, *args, **kwargs) -> None:\n",
    "        super().__init__(*args, **kwargs)\n",
    "        self.service_type = ServiceProvider.MFS\n",
    "\n",
    "\n",
    "class ABPaymentService(PaymentService):\n",
    "    def __init__(self, *args, **kwargs) -> None:\n",
    "        super().__init__(*args, **kwargs)\n",
    "        self.service_type = ServiceProvider.AB\n",
    "\n",
    "\n",
    "class PGPaymentService(PaymentService):\n",
    "    def __init__(self, *args, **kwargs) -> None:\n",
    "        super().__init__(*args, **kwargs)\n",
    "        self.service_type = ServiceProvider.PG\n",
    "\n",
    "\n",
    "class PaymentExecutor(PaymentService):\n",
    "    def cancel_orderid(self) -> str:\n",
    "        return \"ORDERID CANCELLED\"\n",
    "\n",
    "    def reject_orderId(self) -> str:\n",
    "        return \"ORDERID REJECTED\"\n",
    "\n",
    "    def execute(self) -> None:\n",
    "        pass"
   ]
  },
  {
   "cell_type": "code",
   "execution_count": 6,
   "id": "63ff3fd3-bde0-4557-a53a-3d766d548ff7",
   "metadata": {},
   "outputs": [
    {
     "name": "stdout",
     "output_type": "stream",
     "text": [
      "True\n",
      "1\n",
      "4\n"
     ]
    }
   ],
   "source": [
    "insurer = Insurer(3.21, \"3\")\n",
    "ps = PaymentService()\n",
    "\n",
    "print(insurer.lapsed)\n",
    "print(insurer.term_in_month)\n",
    "print(insurer.due_count())"
   ]
  },
  {
   "cell_type": "code",
   "execution_count": null,
   "id": "96057b8e-c682-4ffd-ab86-b4316723dac0",
   "metadata": {},
   "outputs": [],
   "source": []
  }
 ],
 "metadata": {
  "kernelspec": {
   "display_name": "Python 3 (ipykernel)",
   "language": "python",
   "name": "python3"
  },
  "language_info": {
   "codemirror_mode": {
    "name": "ipython",
    "version": 3
   },
   "file_extension": ".py",
   "mimetype": "text/x-python",
   "name": "python",
   "nbconvert_exporter": "python",
   "pygments_lexer": "ipython3",
   "version": "3.11.1"
  }
 },
 "nbformat": 4,
 "nbformat_minor": 5
}
