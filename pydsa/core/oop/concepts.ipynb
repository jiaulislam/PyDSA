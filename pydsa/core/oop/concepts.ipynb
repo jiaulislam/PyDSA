{
 "cells": [
  {
   "cell_type": "markdown",
   "metadata": {
    "editable": true,
    "slideshow": {
     "slide_type": ""
    },
    "tags": []
   },
   "source": [
    "# ✨ What are objects ?\n",
    "\n",
    "Objects are simply an entity that has one or more states and some behaviors. We can think of Cat, Dog, Human, Employee all of them as an entity. They all have some states like age, name, breed, eye, mouth and also they have some behaviors like eating, walking, running, sleeping, working.\n",
    "\n",
    "So in software development objects are representation of those real-world entities. We try to abstract the methodoligies of real-world entities with software development environment. So that, we can write more organized code that would be easily transalatable in plain engish.\n",
    "\n",
    "\n",
    "# ✨ What does it mean with OOP ?\n",
    "\n",
    "OOP aka Object Oriented Programming referes to the methodoligies where we try to build software programs by practicing the  real world object terms. OOP helps us to write DRY & structured code, so that it can be easily managable.\n",
    "\n",
    "# ✨ Mention the core 4 concepts of OOP ?\n",
    "\n",
    "The core 4 oop concepts are as below:\n",
    "    \n",
    "    - Inheritance\n",
    "    - Polymorphism\n",
    "    - Encapsulation\n",
    "    - Data Abstraction"
   ]
  },
  {
   "cell_type": "markdown",
   "metadata": {},
   "source": [
    "# ✨ Core Concepts Walkthrough\n"
   ]
  },
  {
   "cell_type": "markdown",
   "metadata": {},
   "source": [
    "## 📢 Inheritance:\n",
    "\n",
    "We can think of the inheritance as our family relationship in real-life. When a child get born, then often we say\n",
    "that the child got/inherited fathers or mothers eye. The same meaning can also be defined for OOP inheritance also.\n",
    "So, the formal language for Inheritance description would be \n",
    "\n",
    "`Inheritance is the capability of one class deriving from its parent class attributes & methods with rewriting the same code. The class that derives propertise is called derived class and the class from which  the propertise are being derived is called the base or parent class.`\n",
    "\n",
    "    - It represents real-world relationship well.\n",
    "    - It provides the reusablity of a code. We don't have to write the same code again and again. Also,it allows us to add more features to class without modifying it\n",
    "    - It is transitive in nature, which means that if class B inherits from another class A, then all the subclasses of B will automatically inherit the class A.\n",
    "\n"
   ]
  },
  {
   "cell_type": "markdown",
   "metadata": {
    "editable": true,
    "slideshow": {
     "slide_type": ""
    },
    "tags": []
   },
   "source": [
    "## 📢 Polymorphism:\n",
    "\n",
    "The word 'Polymorphism' means having many different forms. In simple words, we define polymorphism as the ability of a message to be displayed in more than one form. A real-life example of 'polymorphism' would be a person who is at the same time is a father, is husband and is an employee. So the same person exhibits different behavior in different situations. This is called polymorphishm. Polymorphism is considered one of the important feature of Object-Oriented Programming.\n",
    "\n",
    "> Types of Polymorphism:\n",
    "\n",
    "- Compile-time Polymorphism :\n",
    "    - Function Overloading\n",
    "    - Operator Overloading\n",
    "- Runtime Polymorphism: \n",
    "    - Virtual Functions"
   ]
  },
  {
   "cell_type": "markdown",
   "metadata": {
    "editable": true,
    "slideshow": {
     "slide_type": ""
    },
    "tags": []
   },
   "source": [
    "## 📢 Encapsulation:\n",
    "\n",
    "Encapsulation is one of the most fundamental concept of Object Oriented Programming. Encapsulation describes the idea of wrapping data and the methods that work on data withing one unit. This puts restrictions on accessing variables and methods directly and can prevent the accidental modification of data. To prevent accidental change, an objects variable can only be changed by an objects method. Those types of variable or methods are know as private variables or methods.\n"
   ]
  }
 ],
 "metadata": {
  "kernelspec": {
   "display_name": "Python 3 (ipykernel)",
   "language": "python",
   "name": "python3"
  },
  "language_info": {
   "codemirror_mode": {
    "name": "ipython",
    "version": 3
   },
   "file_extension": ".py",
   "mimetype": "text/x-python",
   "name": "python",
   "nbconvert_exporter": "python",
   "pygments_lexer": "ipython3",
   "version": "3.11.0"
  }
 },
 "nbformat": 4,
 "nbformat_minor": 4
}
